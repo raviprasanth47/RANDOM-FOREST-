{
 "cells": [
  {
   "cell_type": "markdown",
   "metadata": {
    "colab_type": "text",
    "id": "AjzGopb_YcKR"
   },
   "source": [
    "# Application of Bootstrap samples in Random Forest"
   ]
  },
  {
   "cell_type": "code",
   "execution_count": 2,
   "metadata": {},
   "outputs": [],
   "source": [
    "import warnings\n",
    "warnings.filterwarnings(\"ignore\")\n"
   ]
  },
  {
   "cell_type": "code",
   "execution_count": 10,
   "metadata": {
    "colab": {},
    "colab_type": "code",
    "id": "zZSCtDI6YcKT"
   },
   "outputs": [],
   "source": [
    "import numpy as np\n",
    "import pandas as pd\n",
    "from sklearn.datasets import load_boston\n",
    "from sklearn.metrics import mean_squared_error\n",
    "from tqdm import tqdm\n",
    "import seaborn as sns\n",
    "import matplotlib.pyplot as plt\n",
    "import random\n",
    "from sklearn.tree import DecisionTreeRegressor as dtr"
   ]
  },
  {
   "cell_type": "markdown",
   "metadata": {
    "colab_type": "text",
    "id": "h2Y1Z1DoYcKZ"
   },
   "source": [
    " <li> Load the boston house dataset </li>"
   ]
  },
  {
   "cell_type": "code",
   "execution_count": 4,
   "metadata": {
    "colab": {},
    "colab_type": "code",
    "id": "wBWRNKCDYcKb"
   },
   "outputs": [],
   "source": [
    "boston = load_boston()"
   ]
  },
  {
   "cell_type": "code",
   "execution_count": 5,
   "metadata": {},
   "outputs": [
    {
     "name": "stdout",
     "output_type": "stream",
     "text": [
      ".. _boston_dataset:\n",
      "\n",
      "Boston house prices dataset\n",
      "---------------------------\n",
      "\n",
      "**Data Set Characteristics:**  \n",
      "\n",
      "    :Number of Instances: 506 \n",
      "\n",
      "    :Number of Attributes: 13 numeric/categorical predictive. Median Value (attribute 14) is usually the target.\n",
      "\n",
      "    :Attribute Information (in order):\n",
      "        - CRIM     per capita crime rate by town\n",
      "        - ZN       proportion of residential land zoned for lots over 25,000 sq.ft.\n",
      "        - INDUS    proportion of non-retail business acres per town\n",
      "        - CHAS     Charles River dummy variable (= 1 if tract bounds river; 0 otherwise)\n",
      "        - NOX      nitric oxides concentration (parts per 10 million)\n",
      "        - RM       average number of rooms per dwelling\n",
      "        - AGE      proportion of owner-occupied units built prior to 1940\n",
      "        - DIS      weighted distances to five Boston employment centres\n",
      "        - RAD      index of accessibility to radial highways\n",
      "        - TAX      full-value property-tax rate per $10,000\n",
      "        - PTRATIO  pupil-teacher ratio by town\n",
      "        - B        1000(Bk - 0.63)^2 where Bk is the proportion of blacks by town\n",
      "        - LSTAT    % lower status of the population\n",
      "        - MEDV     Median value of owner-occupied homes in $1000's\n",
      "\n",
      "    :Missing Attribute Values: None\n",
      "\n",
      "    :Creator: Harrison, D. and Rubinfeld, D.L.\n",
      "\n",
      "This is a copy of UCI ML housing dataset.\n",
      "https://archive.ics.uci.edu/ml/machine-learning-databases/housing/\n",
      "\n",
      "\n",
      "This dataset was taken from the StatLib library which is maintained at Carnegie Mellon University.\n",
      "\n",
      "The Boston house-price data of Harrison, D. and Rubinfeld, D.L. 'Hedonic\n",
      "prices and the demand for clean air', J. Environ. Economics & Management,\n",
      "vol.5, 81-102, 1978.   Used in Belsley, Kuh & Welsch, 'Regression diagnostics\n",
      "...', Wiley, 1980.   N.B. Various transformations are used in the table on\n",
      "pages 244-261 of the latter.\n",
      "\n",
      "The Boston house-price data has been used in many machine learning papers that address regression\n",
      "problems.   \n",
      "     \n",
      ".. topic:: References\n",
      "\n",
      "   - Belsley, Kuh & Welsch, 'Regression diagnostics: Identifying Influential Data and Sources of Collinearity', Wiley, 1980. 244-261.\n",
      "   - Quinlan,R. (1993). Combining Instance-Based and Model-Based Learning. In Proceedings on the Tenth International Conference of Machine Learning, 236-243, University of Massachusetts, Amherst. Morgan Kaufmann.\n",
      "\n"
     ]
    }
   ],
   "source": [
    "print(boston.DESCR)"
   ]
  },
  {
   "cell_type": "code",
   "execution_count": 6,
   "metadata": {
    "colab": {},
    "colab_type": "code",
    "id": "wBWRNKCDYcKb"
   },
   "outputs": [
    {
     "name": "stdout",
     "output_type": "stream",
     "text": [
      "x shape: (506, 13)\n",
      "y shape: (506, 1)\n"
     ]
    }
   ],
   "source": [
    "x=boston.data #independent variables\n",
    "\n",
    "y=boston.target #target variable\n",
    "print('x shape:',x.shape)\n",
    "y=y.reshape(-1,1)\n",
    "print('y shape:',y.shape)\n"
   ]
  },
  {
   "cell_type": "markdown",
   "metadata": {},
   "source": [
    "# <CENTER> TASK 1"
   ]
  },
  {
   "cell_type": "code",
   "execution_count": 11,
   "metadata": {},
   "outputs": [
    {
     "name": "stderr",
     "output_type": "stream",
     "text": [
      "100%|██████████████████████████████████████████| 35/35 [00:52<00:00,  1.48s/it]\n"
     ]
    }
   ],
   "source": [
    "mse=[]\n",
    "oob=[]\n",
    "for i in tqdm(range(0,35)):\n",
    "    Grid = [0]*1\n",
    "    for i in range(1):\n",
    "        Grid = [0]*30\n",
    "    model_grid=Grid\n",
    "\n",
    "# Collecting row and column indices\n",
    "    row_idx=[]\n",
    "    col_idx=[]\n",
    "    for i in range(30):\n",
    "        s1=np.random.randint(0,len(y),303)\n",
    "        s2=np.random.choice(s1,203)\n",
    "        row_idx.append(np.concatenate((s1,s2)))\n",
    "        r=random.randint(3,13)\n",
    "        col_idx.append(np.random.randint(0,13,r))  \n",
    "\n",
    "# Training models\n",
    "\n",
    "\n",
    "    ypred=np.zeros(len(y))\n",
    "    for i in range(30):\n",
    "        xsample=x[row_idx[i]]\n",
    "        xsample=xsample[:,col_idx[i]]\n",
    "        ysample=y[row_idx[i]]\n",
    "        model=dtr()\n",
    "        model.fit(xsample,ysample)\n",
    "        model_grid[i]=model\n",
    "        ypred+=model.predict(x[:,col_idx[i]])\n",
    "    ypred=ypred/30\n",
    "    mse.append(mean_squared_error(y,ypred))\n",
    "    \n",
    "    \n",
    "\n",
    "    model_indices=[]\n",
    "    for i in range(0,30):\n",
    "        model_indices.append(row_idx[i])\n",
    "    data_point_not_trained_models=[]\n",
    "    for i in range(506):\n",
    "        l=[]\n",
    "        for j in range(30):\n",
    "             if i not in model_indices[j]:\n",
    "                l.append(j+1)\n",
    "        data_point_not_trained_models.append(l)\n",
    "\n",
    "    Grid = [0]*506\n",
    "\n",
    "    for i in range(506):\n",
    "        Grid[i] = [0]*30\n",
    "\n",
    "\n",
    "\n",
    "    for i in range(506):\n",
    "        for j in range(30):\n",
    "            Grid[i][j]=x[i,col_idx[j]].reshape(1,-1)\n",
    "    data_points_grid=Grid\n",
    "\n",
    "\n",
    "    y_oob_pred=[]\n",
    "    for i in range(506):\n",
    "        y_oob=0\n",
    "        for j in data_point_not_trained_models[i]:\n",
    "            y_oob+=model_grid[j-1].predict(data_points_grid[i][j-1])\n",
    "        y_oob_pred.append(y_oob/len(data_point_not_trained_models[i]))\n",
    "    oob.append(mean_squared_error(y,(y_oob_pred)))"
   ]
  },
  {
   "cell_type": "code",
   "execution_count": 13,
   "metadata": {},
   "outputs": [
    {
     "data": {
      "text/plain": [
       "array([15.52256614, 15.90778205, 15.81345736, 19.08361774, 12.6792253 ,\n",
       "       17.36456745, 16.82128854, 14.70249736, 14.62325249, 16.12941106,\n",
       "       16.37112614, 18.71209361, 19.93256963, 16.37518322, 14.1941682 ,\n",
       "       15.86640818, 17.97075384, 17.02370105, 16.25026452, 15.9630216 ,\n",
       "       17.80152271, 16.96302482, 15.98547477, 14.68016799, 16.75188701,\n",
       "       16.81577872, 16.21105909, 16.4851136 , 18.27609346, 16.23614999,\n",
       "       18.61543487, 14.94834735, 15.70637592, 15.6677286 , 16.36816789])"
      ]
     },
     "execution_count": 13,
     "metadata": {},
     "output_type": "execute_result"
    }
   ],
   "source": [
    "np.array(oob)"
   ]
  },
  {
   "cell_type": "code",
   "execution_count": 14,
   "metadata": {},
   "outputs": [
    {
     "data": {
      "text/plain": [
       "array([4.92903866, 5.06867885, 4.93791454, 5.81309411, 4.01011089,\n",
       "       5.58866944, 5.9706825 , 4.57088407, 4.19050621, 5.61724986,\n",
       "       5.50057932, 7.27454541, 6.62589681, 4.90617987, 4.39180995,\n",
       "       4.717364  , 5.49566167, 5.40525278, 5.52683694, 5.15889324,\n",
       "       5.73141529, 5.59274698, 5.6971749 , 4.94651573, 5.0658553 ,\n",
       "       5.73434096, 5.17080152, 5.47871583, 5.78901358, 5.30300255,\n",
       "       6.4182017 , 4.32716214, 4.7844109 , 5.32234386, 5.42054326])"
      ]
     },
     "execution_count": 14,
     "metadata": {},
     "output_type": "execute_result"
    }
   ],
   "source": [
    "np.array(mse)"
   ]
  },
  {
   "cell_type": "markdown",
   "metadata": {},
   "source": [
    "# <CENTER> TASK 2"
   ]
  },
  {
   "cell_type": "code",
   "execution_count": 16,
   "metadata": {},
   "outputs": [
    {
     "data": {
      "text/plain": [
       "Text(0.5, 1.0, 'MSE VALUES')"
      ]
     },
     "execution_count": 16,
     "metadata": {},
     "output_type": "execute_result"
    },
    {
     "data": {
      "image/png": "[encoded data removed]",
      "text/plain": [
       "<Figure size 1080x360 with 1 Axes>"
      ]
     },
     "metadata": {
      "needs_background": "light"
     },
     "output_type": "display_data"
    }
   ],
   "source": [
    "# Computing CI of OOB Score and TRAIN MSE\n",
    "\n",
    "x_bar=np.array(mse).mean()\n",
    "# Standard Error[S.E]\n",
    "SE=np.array(mse).std()\n",
    "upper_limit=x_bar+(SE*1.96)\n",
    "lower_limit=x_bar-(SE*1.96)\n",
    "\n",
    "fig,ax=plt.subplots(1,figsize=(15,5))\n",
    "sns.distplot(np.array(mse),ax=ax,color='r')\n",
    "ax.axvline(upper_limit, linestyle=\":\", color='g', label=\"s_mean+1.96*SE\")\n",
    "ax.axvline(lower_limit, linestyle=\":\", color='g', label=\"s_mean-1.96*SE\")\n",
    "ax.legend()\n",
    "ax.set_title('MSE VALUES')"
   ]
  },
  {
   "cell_type": "code",
   "execution_count": 18,
   "metadata": {},
   "outputs": [
    {
     "data": {
      "text/plain": [
       "4.031378861674906"
      ]
     },
     "execution_count": 18,
     "metadata": {},
     "output_type": "execute_result"
    }
   ],
   "source": [
    "lower_limit"
   ]
  },
  {
   "cell_type": "code",
   "execution_count": 24,
   "metadata": {},
   "outputs": [
    {
     "data": {
      "text/plain": [
       "6.624740771620818"
      ]
     },
     "execution_count": 24,
     "metadata": {},
     "output_type": "execute_result"
    }
   ],
   "source": [
    "upper_limit"
   ]
  },
  {
   "cell_type": "markdown",
   "metadata": {},
   "source": [
    "# INTERPRETING MSE CONFIDENCE INTERVAL:\n",
    "  The confidence interval plot with U.L=6.62 and  L.L= 4.03, shows that 95% of MSE  values lie in this limit"
   ]
  },
  {
   "cell_type": "code",
   "execution_count": 20,
   "metadata": {},
   "outputs": [
    {
     "data": {
      "text/plain": [
       "Text(0.5, 1.0, 'OOB SCORE')"
      ]
     },
     "execution_count": 20,
     "metadata": {},
     "output_type": "execute_result"
    },
    {
     "data": {
      "image/png": "[encoded data removed]",
      "text/plain": [
       "<Figure size 1080x360 with 1 Axes>"
      ]
     },
     "metadata": {
      "needs_background": "light"
     },
     "output_type": "display_data"
    }
   ],
   "source": [
    "x_bar_oob=np.array(oob).mean()\n",
    "# Standard Error[S.E]\n",
    "SE_oob=np.array(oob).std()\n",
    "upper_limit_oob=x_bar_oob+(SE_oob*1.96)\n",
    "lower_limit_oob=x_bar_oob-(SE_oob*1.96)\n",
    "\n",
    "fig,ax=plt.subplots(1,figsize=(15,5))\n",
    "sns.distplot(np.array(oob),ax=ax,color='r')\n",
    "ax.axvline(upper_limit_oob, linestyle=\":\", color='g', label=\"s_mean+1.96*SE\")\n",
    "ax.axvline(lower_limit_oob, linestyle=\":\", color='g', label=\"s_mean-1.96*SE\")\n",
    "ax.legend()\n",
    "ax.set_title('OOB SCORE')"
   ]
  },
  {
   "cell_type": "code",
   "execution_count": 22,
   "metadata": {},
   "outputs": [
    {
     "data": {
      "text/plain": [
       "13.593169484398816"
      ]
     },
     "execution_count": 22,
     "metadata": {},
     "output_type": "execute_result"
    }
   ],
   "source": [
    "lower_limit_oob"
   ]
  },
  {
   "cell_type": "code",
   "execution_count": 23,
   "metadata": {},
   "outputs": [
    {
     "data": {
      "text/plain": [
       "19.25364664534129"
      ]
     },
     "execution_count": 23,
     "metadata": {},
     "output_type": "execute_result"
    }
   ],
   "source": [
    "upper_limit_oob"
   ]
  },
  {
   "cell_type": "markdown",
   "metadata": {},
   "source": [
    "# INTERPRETING OOB SCORE CONFIDENCE INTERVAL:\n",
    "  The confidence interval plot with U.L=19.25 and  L.L= 13.59, shows that 95% of OOB SCORE values lie in this limit"
   ]
  },
  {
   "cell_type": "markdown",
   "metadata": {},
   "source": [
    "# <center> TASK 3"
   ]
  },
  {
   "cell_type": "code",
   "execution_count": 135,
   "metadata": {},
   "outputs": [
    {
     "name": "stdout",
     "output_type": "stream",
     "text": [
      "PREDICTED PRICE: [18.69]\n"
     ]
    }
   ],
   "source": [
    "xq= [0.18,20.0,5.00,0.0,0.421,5.60,72.2,7.95,7.0,30.0,19.1,372.13,18.60]\n",
    "xq=np.array(xq).reshape(1,-1)\n",
    "\n",
    "price=0\n",
    "\n",
    "for i in range(30):\n",
    "    price+=model_grid[i].predict(xq[:,col_idx[i]])    \n",
    "print('PREDICTED PRICE:',price/30)"
   ]
  },
  {
   "cell_type": "code",
   "execution_count": null,
   "metadata": {},
   "outputs": [],
   "source": []
  }
 ],
 "metadata": {
  "colab": {
   "name": "Bootstrap_Random_Forest_instructions.ipynb",
   "provenance": [],
   "version": "0.3.2"
  },
  "kernelspec": {
   "display_name": "Python 3",
   "language": "python",
   "name": "python3"
  },
  "language_info": {
   "codemirror_mode": {
    "name": "ipython",
    "version": 3
   },
   "file_extension": ".py",
   "mimetype": "text/x-python",
   "name": "python",
   "nbconvert_exporter": "python",
   "pygments_lexer": "ipython3",
   "version": "3.7.3"
  }
 },
 "nbformat": 4,
 "nbformat_minor": 1
}
